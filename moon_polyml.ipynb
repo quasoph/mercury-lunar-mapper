{
 "cells": [
  {
   "cell_type": "markdown",
   "metadata": {},
   "source": [
    "# Lunar albedo prediction using chemical data and neural network\n",
    "\n",
    "First, import libraries:"
   ]
  },
  {
   "cell_type": "code",
   "execution_count": 3,
   "metadata": {},
   "outputs": [
    {
     "name": "stdout",
     "output_type": "stream",
     "text": [
      "2.8.0\n"
     ]
    }
   ],
   "source": [
    "# import libraries\n",
    "\n",
    "import matplotlib.pyplot as plt\n",
    "import pandas as pd\n",
    "import numpy as np\n",
    "import tensorflow as tf\n",
    "\n",
    "from tensorflow import keras\n",
    "from tensorflow.keras import layers\n",
    "\n",
    "print(tf.__version__) # print tensorflow version"
   ]
  },
  {
   "cell_type": "markdown",
   "metadata": {},
   "source": [
    "Next, data is read in from csv datasets using Pandas. The values are reshaped into a list, making it easier to process."
   ]
  },
  {
   "cell_type": "code",
   "execution_count": 4,
   "metadata": {},
   "outputs": [],
   "source": [
    "# obtain iron data\n",
    "\n",
    "fe = pd.read_csv(\"LPFe_Map.csv\",header=None)\n",
    "fe_train = fe.iloc[:,:360].values.flatten() # list of left values\n",
    "fe_test = fe.iloc[:,360:].values.flatten() # list of right values\n",
    "\n",
    "# obtain potassium data\n",
    "\n",
    "k = pd.read_csv(\"LPK_Map.csv\",header=None)\n",
    "k_train = k.iloc[:,:360].values.flatten() # list of left values\n",
    "k_test = k.iloc[:,360:].values.flatten() # list of right values\n",
    "\n",
    "# obtain titanium data\n",
    "\n",
    "ti = pd.read_csv(\"LPTi_Map.csv\",header=None)\n",
    "ti_train = ti.iloc[:,:360].values.flatten() # list of left values\n",
    "ti_test = ti.iloc[:,360:].values.flatten() # list of right values\n",
    "\n",
    "# obtain thorium data\n",
    "\n",
    "th = pd.read_csv(\"LPTh_Map.csv\",header=None)\n",
    "th_train = th.iloc[:,:360].values.flatten() # list of left values\n",
    "th_test = th.iloc[:,360:].values.flatten() # list of right values\n",
    "\n",
    "# obtain albedo data\n",
    "\n",
    "albedo = pd.read_csv(\"Moon_Albedo_Map.csv\",header=None)\n",
    "al_train = albedo.iloc[:,:360].values.flatten() # list of left values\n",
    "al_test = albedo.iloc[:,360:].values.flatten() # list of right values"
   ]
  },
  {
   "cell_type": "markdown",
   "metadata": {},
   "source": [
    "The neural network accepts four inputs (element concentrations). These inputs are each passed through a normalization layer to change them into a value from 0-1 for processing in the model."
   ]
  },
  {
   "cell_type": "code",
   "execution_count": 5,
   "metadata": {},
   "outputs": [],
   "source": [
    "# define inputs and normalization layers\n",
    "\n",
    "ip_fe = keras.Input(shape=(1,))\n",
    "norm_fe = layers.Normalization(input_shape=(1,),axis=None)(ip_fe)\n",
    "\n",
    "ip_k = keras.Input(shape=(1,))\n",
    "norm_k = layers.Normalization(input_shape=(1,),axis=None)(ip_k)\n",
    "\n",
    "ip_ti = keras.Input(shape=(1,))\n",
    "norm_ti = layers.Normalization(input_shape=(1,),axis=None)(ip_ti)\n",
    "\n",
    "ip_th = keras.Input(shape=(1,))\n",
    "norm_th = layers.Normalization(input_shape=(1,),axis=None)(ip_th)"
   ]
  },
  {
   "cell_type": "markdown",
   "metadata": {},
   "source": [
    "Next, the neural network is constructed. In order to pass through the following layers of the neural network, the normalized input arrays must be concatenated together into one object. This object is then passed through 3 dense layers. The regression model is non-linear, as the relationship between element concentrations and albedo was determined to be non-linear from plotting individual graphs for each. "
   ]
  },
  {
   "cell_type": "code",
   "execution_count": 6,
   "metadata": {},
   "outputs": [
    {
     "name": "stdout",
     "output_type": "stream",
     "text": [
      "Model: \"model\"\n",
      "__________________________________________________________________________________________________\n",
      " Layer (type)                   Output Shape         Param #     Connected to                     \n",
      "==================================================================================================\n",
      " input_1 (InputLayer)           [(None, 1)]          0           []                               \n",
      "                                                                                                  \n",
      " input_2 (InputLayer)           [(None, 1)]          0           []                               \n",
      "                                                                                                  \n",
      " input_3 (InputLayer)           [(None, 1)]          0           []                               \n",
      "                                                                                                  \n",
      " input_4 (InputLayer)           [(None, 1)]          0           []                               \n",
      "                                                                                                  \n",
      " normalization (Normalization)  (None, 1)            3           ['input_1[0][0]']                \n",
      "                                                                                                  \n",
      " normalization_1 (Normalization  (None, 1)           3           ['input_2[0][0]']                \n",
      " )                                                                                                \n",
      "                                                                                                  \n",
      " normalization_2 (Normalization  (None, 1)           3           ['input_3[0][0]']                \n",
      " )                                                                                                \n",
      "                                                                                                  \n",
      " normalization_3 (Normalization  (None, 1)           3           ['input_4[0][0]']                \n",
      " )                                                                                                \n",
      "                                                                                                  \n",
      " concatenate (Concatenate)      (None, 4)            0           ['normalization[0][0]',          \n",
      "                                                                  'normalization_1[0][0]',        \n",
      "                                                                  'normalization_2[0][0]',        \n",
      "                                                                  'normalization_3[0][0]']        \n",
      "                                                                                                  \n",
      " dense (Dense)                  (None, 64)           320         ['concatenate[0][0]']            \n",
      "                                                                                                  \n",
      " dense_1 (Dense)                (None, 64)           4160        ['dense[0][0]']                  \n",
      "                                                                                                  \n",
      " dense_2 (Dense)                (None, 1)            65          ['dense_1[0][0]']                \n",
      "                                                                                                  \n",
      "==================================================================================================\n",
      "Total params: 4,557\n",
      "Trainable params: 4,545\n",
      "Non-trainable params: 12\n",
      "__________________________________________________________________________________________________\n"
     ]
    }
   ],
   "source": [
    "# build neural network\n",
    "\n",
    "concat = layers.Concatenate()([norm_fe,norm_k,norm_ti,norm_th])\n",
    "dense1 = layers.Dense(64,activation=\"relu\")(concat) # 64 nodes, \"relu\" means nonlinear model used\n",
    "dense2 = layers.Dense(64,activation=\"relu\")(dense1) # \"\n",
    "output = layers.Dense(1)(dense2)\n",
    "\n",
    "model = keras.Model(inputs=[ip_fe,ip_k,ip_ti,ip_th],outputs=output) # creates model\n",
    "\n",
    "# compile and summary\n",
    "\n",
    "model.compile(loss=\"mean_absolute_error\",optimizer=tf.keras.optimizers.Adam(0.001))\n",
    "model.summary()"
   ]
  },
  {
   "cell_type": "markdown",
   "metadata": {},
   "source": [
    "Now that the model has been built, it can be fitted to all of the training data (the left side of the maps) to determine errors."
   ]
  },
  {
   "cell_type": "code",
   "execution_count": 7,
   "metadata": {},
   "outputs": [
    {
     "data": {
      "image/png": "[encoded data removed]",
      "text/plain": [
       "<Figure size 432x288 with 1 Axes>"
      ]
     },
     "metadata": {
      "needs_background": "light"
     },
     "output_type": "display_data"
    }
   ],
   "source": [
    "# write history\n",
    "\n",
    "history = model.fit(x=[fe_train,k_train,ti_train,th_train],y=al_train,validation_split=0.2,verbose=0,epochs=100)\n",
    "\n",
    "# plot error vs epoch\n",
    "\n",
    "def plot_loss(history):\n",
    "  plt.plot(history.history['loss'], label='loss')\n",
    "  plt.plot(history.history['val_loss'], label='val_loss')\n",
    "  plt.ylim([0, 10])\n",
    "  plt.xlabel('Epoch')\n",
    "  plt.ylabel('Error [Albedo]')\n",
    "  plt.legend()\n",
    "  plt.grid(True)\n",
    "\n",
    "plot_loss(history)\n",
    "plt.show()"
   ]
  },
  {
   "cell_type": "markdown",
   "metadata": {},
   "source": [
    "Finally, the albedo of the right side of the lunar map is predicted and plotted as a contourmap. This allows for comparison with the actual test values (right side) of the albedo data. The y-axis is inverted so that the origin (0,0) is located in the upper left corner, as represented in the dataset."
   ]
  },
  {
   "cell_type": "code",
   "execution_count": 13,
   "metadata": {},
   "outputs": [
    {
     "data": {
      "image/png": "[encoded data removed]",
      "text/plain": [
       "<Figure size 432x288 with 2 Axes>"
      ]
     },
     "metadata": {
      "needs_background": "light"
     },
     "output_type": "display_data"
    }
   ],
   "source": [
    "# predict albedo using test data\n",
    "\n",
    "predicted_albedo = model.predict([fe_test,k_test,ti_test,th_test]).flatten()\n",
    "predicted_albedo = predicted_albedo.reshape(360,360)\n",
    "\n",
    "# plot predicted albedo\n",
    "\n",
    "fig, ax = plt.subplots()\n",
    "\n",
    "xvals = np.arange(0,360,1)\n",
    "yvals = np.arange(0,360,1)\n",
    "\n",
    "# flip graph\n",
    "\n",
    "ax.invert_yaxis()\n",
    "ax.xaxis.tick_top()\n",
    "\n",
    "ax.set_aspect(1)\n",
    "g = ax.contourf(xvals,yvals,predicted_albedo)\n",
    "plt.colorbar(g)\n",
    "plt.show()"
   ]
  },
  {
   "cell_type": "markdown",
   "metadata": {},
   "source": [
    "Finally, the error is plotted to see how accurate the prediction is to the real right-hand-side of the moon."
   ]
  },
  {
   "cell_type": "code",
   "execution_count": 12,
   "metadata": {},
   "outputs": [
    {
     "data": {
      "image/png": "[encoded data removed]",
      "text/plain": [
       "<Figure size 432x288 with 1 Axes>"
      ]
     },
     "metadata": {
      "needs_background": "light"
     },
     "output_type": "display_data"
    }
   ],
   "source": [
    "predicted_albedo = predicted_albedo.reshape(129600,)\n",
    "error = predicted_albedo - al_test\n",
    "plt.hist(error, bins=25)\n",
    "plt.xlabel('Prediction Error [Albedo]')\n",
    "_ = plt.ylabel('Count')"
   ]
  },
  {
   "cell_type": "markdown",
   "metadata": {},
   "source": [
    "The error forms a sharp peak at 0, showing that very few predicted datapoints have significant error (up to +- 0.1). This shows that the model is a good fit."
   ]
  }
 ],
 "metadata": {
  "interpreter": {
   "hash": "0b9d2f376f3d9546de67b378509ecfde4dd600029ab8418dd3e63e08e391d2ac"
  },
  "kernelspec": {
   "display_name": "Python 3.10.2 64-bit",
   "name": "python3"
  },
  "language_info": {
   "codemirror_mode": {
    "name": "ipython",
    "version": 3
   },
   "file_extension": ".py",
   "mimetype": "text/x-python",
   "name": "python",
   "nbconvert_exporter": "python",
   "pygments_lexer": "ipython3",
   "version": "3.10.2"
  },
  "orig_nbformat": 4
 },
 "nbformat": 4,
 "nbformat_minor": 2
}
